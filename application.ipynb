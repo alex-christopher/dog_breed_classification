{
 "cells": [
  {
   "cell_type": "code",
   "execution_count": 4,
   "metadata": {},
   "outputs": [
    {
     "ename": "ModuleNotFoundError",
     "evalue": "No module named 'dog_app'",
     "output_type": "error",
     "traceback": [
      "\u001b[1;31m---------------------------------------------------------------------------\u001b[0m",
      "\u001b[1;31mModuleNotFoundError\u001b[0m                       Traceback (most recent call last)",
      "\u001b[1;32me:\\Mini Project\\dog-human-classifier-neural-network\\application.ipynb Cell 1\u001b[0m in \u001b[0;36m<cell line: 1>\u001b[1;34m()\u001b[0m\n\u001b[1;32m----> <a href='vscode-notebook-cell:/e%3A/Mini%20Project/dog-human-classifier-neural-network/application.ipynb#W1sZmlsZQ%3D%3D?line=0'>1</a>\u001b[0m \u001b[39mfrom\u001b[39;00m \u001b[39mdog_app\u001b[39;00m\u001b[39m.\u001b[39;00m\u001b[39mipynb\u001b[39;00m \u001b[39mimport\u001b[39;00m \u001b[39m*\u001b[39m\n",
      "\u001b[1;31mModuleNotFoundError\u001b[0m: No module named 'dog_app'"
     ]
    }
   ],
   "source": []
  },
  {
   "cell_type": "code",
   "execution_count": null,
   "metadata": {},
   "outputs": [],
   "source": [
    "\n",
    "root = Tk()\n",
    "root.title(\"ML Application\")\n",
    "screen_width, screen_height = root.winfo_screenwidth(), root.winfo_height()\n",
    "root.geometry(\"%dx%d+-5+-5\" % (screen_width, screen_width))\n",
    "\n",
    "name_var = StringVar()\n",
    "\n",
    "\n",
    "# Button creation\n",
    "\n",
    "def submit():\n",
    "    file_name = name_var.get()\n",
    "    ml = ML(file_name)\n",
    "    ml.import_file()\n",
    "\n",
    "def specify_path_window():\n",
    "    win = Toplevel(root)\n",
    "    win.geometry(\"200x100\")\n",
    "    label = Label(win, text=\"Enter the location\", )\n",
    "    label.pack()\n",
    "    # Creating Box\n",
    "\n",
    "    entry = Entry(win, textvariable=name_var)\n",
    "    entry.get()\n",
    "    entry.pack()\n",
    "\n",
    "    sub_btn = Button(win, text=\"Import\", command=submit)\n",
    "    sub_btn.pack()\n",
    "\n",
    "    progressbar = Progressbar(win)\n",
    "\n",
    "\n",
    "file_path = Button(root, text=\"Enter File\", command=specify_path_window)\n",
    "file_path.pack()\n",
    "\n",
    "root.mainloop()"
   ]
  },
  {
   "cell_type": "code",
   "execution_count": 1,
   "metadata": {},
   "outputs": [],
   "source": [
    "import ipynb"
   ]
  },
  {
   "cell_type": "code",
   "execution_count": 3,
   "metadata": {},
   "outputs": [
    {
     "ename": "ModuleNotFoundError",
     "evalue": "No module named 'dog_app'",
     "output_type": "error",
     "traceback": [
      "\u001b[1;31m---------------------------------------------------------------------------\u001b[0m",
      "\u001b[1;31mModuleNotFoundError\u001b[0m                       Traceback (most recent call last)",
      "Cell \u001b[1;32mIn [3], line 1\u001b[0m\n\u001b[1;32m----> 1\u001b[0m \u001b[39mimport\u001b[39;00m \u001b[39mdog_app\u001b[39;00m\u001b[39m.\u001b[39;00m\u001b[39mipynb\u001b[39;00m\n",
      "\u001b[1;31mModuleNotFoundError\u001b[0m: No module named 'dog_app'"
     ]
    }
   ],
   "source": [
    "import dog_app.ipynb"
   ]
  },
  {
   "cell_type": "code",
   "execution_count": 11,
   "metadata": {},
   "outputs": [
    {
     "ename": "SyntaxError",
     "evalue": "invalid syntax (dog_app.ipynb, line 19)",
     "output_type": "error",
     "traceback": [
      "Traceback \u001b[1;36m(most recent call last)\u001b[0m:\n",
      "\u001b[0m  File \u001b[0;32md:\\Users\\Alex Christopher\\anaconda3\\envs\\miniproj\\lib\\site-packages\\IPython\\core\\interactiveshell.py:3378\u001b[0m in \u001b[0;35mrun_code\u001b[0m\n    exec(code_obj, self.user_global_ns, self.user_ns)\u001b[0m\n",
      "\u001b[0m  Cell \u001b[0;32mIn [11], line 1\u001b[0m\n    import ipynb.fs.full.dog_app\u001b[0m\n",
      "\u001b[0m  File \u001b[0;32m<frozen importlib._bootstrap>:1027\u001b[0m in \u001b[0;35m_find_and_load\u001b[0m\n",
      "\u001b[0m  File \u001b[0;32m<frozen importlib._bootstrap>:1006\u001b[0m in \u001b[0;35m_find_and_load_unlocked\u001b[0m\n",
      "\u001b[0m  File \u001b[0;32m<frozen importlib._bootstrap>:688\u001b[0m in \u001b[0;35m_load_unlocked\u001b[0m\n",
      "\u001b[0m  File \u001b[0;32m<frozen importlib._bootstrap_external>:879\u001b[0m in \u001b[0;35mexec_module\u001b[0m\n",
      "\u001b[1;36m  File \u001b[1;32md:\\Users\\Alex Christopher\\anaconda3\\envs\\miniproj\\lib\\site-packages\\ipynb\\fs\\full\\__init__.py:43\u001b[1;36m in \u001b[1;35mget_code\u001b[1;36m\n\u001b[1;33m    return self.source_to_code(code_from_ipynb(nb), self.path)\u001b[1;36m\n",
      "\u001b[1;36m  File \u001b[1;32me:\\Mini Project\\dog-human-classifier-neural-network\\dog_app.ipynb:19\u001b[1;36m\u001b[0m\n\u001b[1;33m    \"from glob import glob\\n\",\u001b[0m\n\u001b[1;37m    ^\u001b[0m\n\u001b[1;31mSyntaxError\u001b[0m\u001b[1;31m:\u001b[0m invalid syntax\n"
     ]
    }
   ],
   "source": [
    "import ipynb.fs.full.dog_app"
   ]
  },
  {
   "cell_type": "code",
   "execution_count": 12,
   "metadata": {},
   "outputs": [
    {
     "name": "stderr",
     "output_type": "stream",
     "text": [
      "d:\\Users\\Alex Christopher\\anaconda3\\envs\\miniproj\\lib\\site-packages\\tqdm\\auto.py:22: TqdmWarning: IProgress not found. Please update jupyter and ipywidgets. See https://ipywidgets.readthedocs.io/en/stable/user_install.html\n",
      "  from .autonotebook import tqdm as notebook_tqdm\n"
     ]
    }
   ],
   "source": [
    "import torch"
   ]
  },
  {
   "cell_type": "code",
   "execution_count": 18,
   "metadata": {},
   "outputs": [
    {
     "ename": "AttributeError",
     "evalue": "'collections.OrderedDict' object has no attribute 'run'",
     "output_type": "error",
     "traceback": [
      "\u001b[1;31m---------------------------------------------------------------------------\u001b[0m",
      "\u001b[1;31mAttributeError\u001b[0m                            Traceback (most recent call last)",
      "Cell \u001b[1;32mIn [18], line 4\u001b[0m\n\u001b[0;32m      1\u001b[0m FILEE \u001b[39m=\u001b[39m \u001b[39m\"\u001b[39m\u001b[39mmodel_transfer.pt\u001b[39m\u001b[39m\"\u001b[39m\n\u001b[0;32m      3\u001b[0m model \u001b[39m=\u001b[39m torch\u001b[39m.\u001b[39mload(FILEE)\n\u001b[1;32m----> 4\u001b[0m model\u001b[39m.\u001b[39;49mrun(\u001b[39m'\u001b[39m\u001b[39m1.jpeg\u001b[39m\u001b[39m'\u001b[39m)\n",
      "\u001b[1;31mAttributeError\u001b[0m: 'collections.OrderedDict' object has no attribute 'run'"
     ]
    }
   ],
   "source": [
    "FILEE = \"model_transfer.pt\"\n",
    "\n",
    "model = torch.load(FILEE)\n",
    "model.run('1.jpeg')"
   ]
  },
  {
   "cell_type": "code",
   "execution_count": null,
   "metadata": {},
   "outputs": [],
   "source": [
    "from matplotlib import collections\n",
    "\n",
    "\n",
    "collections.Order"
   ]
  },
  {
   "cell_type": "code",
   "execution_count": 40,
   "metadata": {},
   "outputs": [
    {
     "name": "stdout",
     "output_type": "stream",
     "text": [
      "<_io.BufferedReader name='E:/Mini Project/dog-human-classifier-neural-network/Characters_bolt.jpeg'>\n"
     ]
    }
   ],
   "source": [
    "# Import the required Libraries\n",
    "from tkinter import *\n",
    "from tkinter import ttk, filedialog\n",
    "from tkinter.filedialog import askopenfile\n",
    "from pathlib import Path\n",
    "from PIL import Image, ImageTk\n",
    "\n",
    "# Create an instance of tkinter frame\n",
    "win = Tk()\n",
    "\n",
    "# Set the geometry of tkinter frame\n",
    "win.geometry(\"700x350\")\n",
    "\n",
    "def open_file():\n",
    "   file = filedialog.askopenfile(mode='rb', filetypes=[('*.jpg', '*.jpeg')])\n",
    "   print(file)\n",
    "   im = Image.open(file)\n",
    "   tkimage = ImageTk.PhotoImage(im)\n",
    "   myvar = Label(win, image = tkimage)\n",
    "   myvar.image = tkimage\n",
    "   myvar.pack()\n",
    "   if file:\n",
    "      content = file.read()\n",
    "      file.close()\n",
    "\n",
    "# Add a Label widget\n",
    "label = Label(win, text=\"Select the dog images\", font=('Georgia 13'))\n",
    "label.pack(pady=10)\n",
    "\n",
    "# Create a Button\n",
    "browse_button = ttk.Button(win, text=\"Browse\", command=open_file).pack(pady=20)\n",
    "\n",
    "generate_button = ttk.Button(win, text=\"Generate Breed\", command=open_file.file).pack(pady=20)\n",
    "\n",
    "win.mainloop()"
   ]
  },
  {
   "cell_type": "code",
   "execution_count": null,
   "metadata": {},
   "outputs": [],
   "source": []
  }
 ],
 "metadata": {
  "kernelspec": {
   "display_name": "Python 3.10.6 ('miniproj')",
   "language": "python",
   "name": "python3"
  },
  "language_info": {
   "codemirror_mode": {
    "name": "ipython",
    "version": 3
   },
   "file_extension": ".py",
   "mimetype": "text/x-python",
   "name": "python",
   "nbconvert_exporter": "python",
   "pygments_lexer": "ipython3",
   "version": "3.10.6"
  },
  "orig_nbformat": 4,
  "vscode": {
   "interpreter": {
    "hash": "47daafb67245cf3207a4a1f77447713b3a323f886e995a4d1be632c5a72cfdfa"
   }
  }
 },
 "nbformat": 4,
 "nbformat_minor": 2
}
